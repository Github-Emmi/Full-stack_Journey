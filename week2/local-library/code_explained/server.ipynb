{
 "cells": [
  {
   "cell_type": "markdown",
   "id": "61670750",
   "metadata": {},
   "source": [
    "```javascript\n",
    "require('dotenv').config();\n",
    "\n",
    "// create our express app\n",
    "const express = require('express')\n",
    "const app = express();\n",
    "\n",
    "const connectDB = require('./config/database');\n",
    "\n",
    "const PORT = process.env.PORT || 3000;\n",
    "\n",
    "// ===== DATABASE CONNECTION =====\n",
    "connectDB();\n",
    "```\n",
    "**We start by loading environment variables from a .env file using dotenv.**\n",
    "\n",
    "**We import Express and create an Express application.**\n",
    "\n",
    "**We import the connectDB function from ./config/database.**\n",
    "\n",
    "**We set the port from the environment variable or default to 3000.**\n",
    "\n",
    "**We call connectDB() to connect to the database.**"
   ]
  },
  {
   "cell_type": "markdown",
   "id": "80f9fd09",
   "metadata": {},
   "source": [
    "```javascript\n",
    "// Express.json() middleware - parses incoming JSON requests\n",
    "app.use(express.json());\n",
    "app.use(express.urlencoded({extended: true}));\n",
    "```\n",
    "We set up middleware to parse JSON and urlencoded data (from forms)."
   ]
  },
  {
   "cell_type": "markdown",
   "id": "6d3f285f",
   "metadata": {},
   "source": [
    "```javascript\n",
    "// ===== ROUTES =====\n",
    "app.use('/api/books', require('./routes/bookRoutes'));\n",
    "// app.use('/api/authors', require('./routes/authorRoutes')); // You'll create this\n",
    "We set up routes for books and will do the same for authors."
   ]
  },
  {
   "cell_type": "markdown",
   "id": "76924d37",
   "metadata": {},
   "source": [
    "```javascript\n",
    "// ===== ROOT ROUTE =====\n",
    "app.get('/', (req, res) => {\n",
    "  res.json({\n",
    "    message: '📚 Local Library API',\n",
    "    version: '1.0.0',\n",
    "    endpoints: {\n",
    "      books: '/api/books',\n",
    "      authors: '/api/authors',\n",
    "      health: '/health'\n",
    "    },\n",
    "    timestamp: new Date().toISOString()\n",
    "  });\n",
    "});\n",
    "```\n",
    "We define a root route that returns a JSON response with API information.\n"
   ]
  },
  {
   "cell_type": "markdown",
   "id": "80f67859",
   "metadata": {},
   "source": [
    "```javascript\n",
    "// ===== HEALTH CHECK =====\n",
    "app.get('/health', (req, res) => {\n",
    "  const mongoose = require('mongoose');\n",
    "  const dbStatus = mongoose.connection.readyState;\n",
    "  \n",
    "  const statusMessages = {\n",
    "    0: 'Disconnected',\n",
    "    1: 'Connected',\n",
    "    2: 'Connecting',\n",
    "    3: 'Disconnecting'\n",
    "  };\n",
    "\n",
    "  res.status(200).json({\n",
    "    status: 'OK',\n",
    "    database: statusMessages[dbStatus] || 'Unknown',\n",
    "    uptime: `${process.uptime().toFixed(2)} seconds`,\n",
    "    memory: `${(process.memoryUsage().heapUsed / 1024 / 1024).toFixed(2)} MB`,\n",
    "    timestamp: new Date().toISOString()\n",
    "  });\n",
    "});\n",
    "```\n",
    "We define a health check route that returns the status of the database and server."
   ]
  },
  {
   "cell_type": "markdown",
   "id": "16dc7052",
   "metadata": {},
   "source": [
    "```javascript\n",
    "// ===== ERROR HANDLING =====\n",
    "\n",
    "// Global error handler\n",
    "app.use((error, req, res, next) => {\n",
    "  console.error('Error:', error);\n",
    "\n",
    "  // Mongoose validation error\n",
    "  if (error.name === 'ValidationError') {\n",
    "    const messages = Object.values(error.errors).map(val => val.message);\n",
    "    return res.status(400).json({\n",
    "      success: false,\n",
    "      error: 'Validation Error',\n",
    "      messages\n",
    "    });\n",
    "  }\n",
    "\n",
    "  // Mongoose duplicate key error\n",
    "  if (error.code === 11000) {\n",
    "    return res.status(400).json({\n",
    "      success: false,\n",
    "      error: 'Duplicate field value entered'\n",
    "    });\n",
    "  }\n",
    "\n",
    "  // Mongoose bad ObjectId\n",
    "  if (error.name === 'CastError') {\n",
    "    return res.status(400).json({\n",
    "      success: false,\n",
    "      error: 'Resource not found'\n",
    "    });\n",
    "  }\n",
    "\n",
    "  res.status(500).json({\n",
    "    success: false,\n",
    "    error: 'Server Error',\n",
    "    message: process.env.NODE_ENV === 'development' ? error.message : 'Internal server error'\n",
    "  });\n",
    "});\n",
    "```\n",
    "We set up a global error handler to catch and process errors."
   ]
  },
  {
   "cell_type": "markdown",
   "id": "81bb63f9",
   "metadata": {},
   "source": []
  }
 ],
 "metadata": {
  "language_info": {
   "name": "python"
  }
 },
 "nbformat": 4,
 "nbformat_minor": 5
}
