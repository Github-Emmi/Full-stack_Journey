{
 "cells": [
  {
   "cell_type": "markdown",
   "id": "bbe86666",
   "metadata": {},
   "source": [
    "# 🔍 Author Model Line-by-Line Breakdown:\n",
    "\n",
    "```javascript\n",
    "const mongoose = require('mongoose');\n",
    "```\n",
    "What it does: Imports Mongoose - your database toolkit that translates JavaScript objects to MongoDB documents.\n",
    "\n",
    "```javascript\n",
    "const authorSchema = new mongoose.Schema({\n",
    "  firstName: {\n",
    "    type: String,\n",
    "    required: true,\n",
    "    trim: true,\n",
    "    maxlength: 50\n",
    "  },\n",
    "```\n",
    "What it does: Defines the author's first name field with validation rules:\n",
    "\n",
    "required: true = Must be provided (like a required field in a form)\n",
    "\n",
    "trim: true = Removes extra spaces (auto-cleanup)\n",
    "\n",
    "maxlength: 50 = Maximum 50 characters\n",
    "\n",
    "```javascript\n",
    "  dateOfBirth: Date,\n",
    "  dateOfDeath: Date,\n",
    "```\n",
    "What it does: Simple date fields without validation - optional information.\n",
    "\n",
    "```javascript\n",
    "  nationality: {\n",
    "    type: String,\n",
    "    default: 'Unknown'\n",
    "  },\n",
    "```\n",
    "What it does: Sets a default value if none provided - like pre-filling \"Unknown\" in a form.\n",
    "\n",
    "```javascript\n",
    "  website: {\n",
    "    type: String,\n",
    "    match: [/https?:\\/\\/(www\\.)?[-a-zA-Z0-9@:%._\\+~#=]{1,256}\\.[a-zA-Z0-9()]{1,6}\\b([-a-zA-Z0-9()@:%_\\+.~#?&//=]*)/, 'Please use a valid URL']\n",
    "  }\n",
    "}, {\n",
    "  timestamps: true\n",
    "});\n",
    "```\n",
    "What it does: URL validation using regex pattern + automatically adds createdAt and updatedAt fields.\n",
    "\n",
    "```javascript\n",
    "authorSchema.virtual('fullName').get(function() {\n",
    "  return `${this.firstName} ${this.lastName}`;\n",
    "});\n",
    "```\n",
    "What it does: Creates a computed property - combines first + last name without storing in database.\n"
   ]
  },
  {
   "cell_type": "markdown",
   "id": "77c59e57",
   "metadata": {},
   "source": []
  }
 ],
 "metadata": {
  "language_info": {
   "name": "python"
  }
 },
 "nbformat": 4,
 "nbformat_minor": 5
}
