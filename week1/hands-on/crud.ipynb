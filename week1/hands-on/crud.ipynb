{
 "cells": [
  {
   "cell_type": "markdown",
   "id": "b34b7f34",
   "metadata": {},
   "source": [
    "## Key Concepts:\n",
    "\n",
    "**Database:** A container for collections (like a database in SQL).\n",
    "\n",
    "**Collection:** A group of documents (like a table in SQL).\n",
    "\n",
    "**Document:** A set of key-value pairs (like a row in SQL, but in BSON format)."
   ]
  },
  {
   "cell_type": "code",
   "execution_count": null,
   "id": "9b3047e9",
   "metadata": {
    "vscode": {
     "languageId": "javascript"
    }
   },
   "outputs": [],
   "source": [
    "// Example 1: Create a Database and Collection\n",
    "\n",
    "// Switch to a database (creates if it doesn't exist)\n",
    "use myblog\n",
    "\n",
    "// Create a collection and insert a document\n",
    "db.posts.insertOne({\n",
    "  title: \"My First Post\",\n",
    "  content: \"This is the content of my first post.\",\n",
    "  author: \"John Doe\",\n",
    "  date: new Date()\n",
    "})\n",
    "\n",
    "// Explanation: The use command switches to the database. If it doesn't exist, \n",
    "// it will be created when we first insert data. We then insert a document into the posts collection."
   ]
  },
  {
   "cell_type": "code",
   "execution_count": null,
   "id": "c7576f71",
   "metadata": {
    "vscode": {
     "languageId": "javascript"
    }
   },
   "outputs": [],
   "source": []
  }
 ],
 "metadata": {
  "language_info": {
   "name": "python"
  }
 },
 "nbformat": 4,
 "nbformat_minor": 5
}
