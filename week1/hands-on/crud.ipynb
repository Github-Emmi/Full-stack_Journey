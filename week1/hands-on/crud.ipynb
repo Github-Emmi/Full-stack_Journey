{
 "cells": [
  {
   "cell_type": "markdown",
   "id": "b34b7f34",
   "metadata": {},
   "source": [
    "## Key Concepts:\n",
    "\n",
    "**Database:** A container for collections (like a database in SQL).\n",
    "\n",
    "**Collection:** A group of documents (like a table in SQL).\n",
    "\n",
    "**Document:** A set of key-value pairs (like a row in SQL, but in BSON format)."
   ]
  },
  {
   "cell_type": "markdown",
   "id": "9b3047e9",
   "metadata": {
    "vscode": {
     "languageId": "javascript"
    }
   },
   "source": [
    "## Example 1: Create a Database and Collection\n",
    "\n",
    "```javascript\n",
    "// Switch to a database (creates if it doesn't exist)\n",
    "use myblog\n",
    "\n",
    "// Create a collection and insert a document\n",
    "db.posts.insertOne({\n",
    "  title: \"My First Post\",\n",
    "  content: \"This is the content of my first post.\",\n",
    "  author: \"John Doe\",\n",
    "  date: new Date()\n",
    "})\n",
    "```\n",
    "\n",
    "**Explanation:** The use command switches to the database. If it doesn't exist, it will be created when we first insert data. We then insert a document into the posts collection."
   ]
  },
  {
   "cell_type": "markdown",
   "id": "c7576f71",
   "metadata": {
    "vscode": {
     "languageId": "javascript"
    }
   },
   "source": [
    "## Example 2: Insert Multiple Documents\n",
    "\n",
    "```javascript\n",
    "db.posts.insertMany([\n",
    "  {\n",
    "    title: \"Second Post\",\n",
    "    content: \"Content of the second post.\",\n",
    "    author: \"Jane Smith\",\n",
    "    date: new Date(),\n",
    "    tags: [\"mongodb\", \"database\"]\n",
    "  },\n",
    "  {\n",
    "    title: \"Third Post\",\n",
    "    content: \"Content of the third post.\",\n",
    "    author: \"John Doe\",\n",
    "    date: new Date(),\n",
    "    tags: [\"nodejs\", \"backend\"]\n",
    "  }\n",
    "])\n",
    "```\n",
    "**Explanation:** insertMany allows inserting multiple documents at once. Note the use of an array of documents and the tags field which is an array."
   ]
  },
  {
   "cell_type": "markdown",
   "id": "f0fdac21",
   "metadata": {},
   "source": [
    "## Example 3: Find Documents\n",
    "\n",
    "```javascript\n",
    "// Find all documents\n",
    "db.posts.find()\n",
    "\n",
    "// Find documents by author\n",
    "db.posts.find({ author: \"John Doe\" })\n",
    "\n",
    "// Find with projection (only return certain fields)\n",
    "db.posts.find({ author: \"John Doe\" }, { title: 1, date: 1 })\n",
    "```\n",
    "\n",
    "**Explanation:** The find method is used for querying. The first argument is the query criteria, the second is the projection (which fields to return)."
   ]
  },
  {
   "cell_type": "markdown",
   "id": "2500e5e2",
   "metadata": {},
   "source": [
    "## Example 4: Query Operators\n",
    "\n",
    "```javascript\n",
    "// Find posts with a date greater than a specific date\n",
    "db.posts.find({ date: { $gt: new Date(\"2024-01-01\") } })\n",
    "\n",
    "// Find posts by author and with specific tags\n",
    "db.posts.find({ \n",
    "  author: \"John Doe\",\n",
    "  tags: { $in: [\"mongodb\"] }\n",
    "})\n",
    "```\n",
    "**Explanation:** We use query operators like $gt (greater than) and $in (to match any in an array).\n"
   ]
  },
  {
   "cell_type": "markdown",
   "id": "36a25109",
   "metadata": {},
   "source": [
    "\n",
    "## Example 5: Update Documents\n",
    "\n",
    "```javascript\n",
    "// Update one document\n",
    "db.posts.updateOne(\n",
    "  { title: \"My First Post\" },\n",
    "  { $set: { content: \"Updated content\" } }\n",
    ")\n",
    "\n",
    "// Update multiple documents\n",
    "db.posts.updateMany(\n",
    "  { author: \"John Doe\" },\n",
    "  { $set: { status: \"published\" } }\n",
    ")\n",
    "```\n",
    "**Explanation:** updateOne updates the first document that matches the filter. updateMany updates all matching documents. We use the $set operator to update specific fields."
   ]
  },
  {
   "cell_type": "markdown",
   "id": "be92ba29",
   "metadata": {},
   "source": [
    "\n",
    "\n",
    "## Example 6: Delete Documents\n",
    "\n",
    "```javascript\n",
    "// Delete one document\n",
    "db.posts.deleteOne({ title: \"Third Post\" })\n",
    "\n",
    "// Delete multiple documents\n",
    "db.posts.deleteMany({ author: \"John Doe\" })\n",
    "```\n",
    "\n",
    "**Explanation:** deleteOne deletes the first matching document, deleteMany deletes all matching documents."
   ]
  },
  {
   "cell_type": "markdown",
   "id": "6e98bec3",
   "metadata": {},
   "source": [
    "\n",
    "## Example 7: Indexing for Performance\n",
    "\n",
    "```javascript\n",
    "// Create an index on the author field\n",
    "db.posts.createIndex({ author: 1 })\n",
    "\n",
    "// Create a compound index\n",
    "db.posts.createIndex({ author: 1, date: -1 })\n",
    "```\n",
    "\n",
    "**Explanation:** Indexes improve query performance. The number 1 indicates ascending, -1 descending.\n"
   ]
  },
  {
   "cell_type": "markdown",
   "id": "fdd4e531",
   "metadata": {},
   "source": [
    "\n",
    "\n",
    "## Example 8: Text Search\n",
    "\n",
    "```javascript\n",
    "// Create a text index\n",
    "db.posts.createIndex({ title: \"text\", content: \"text\" })\n",
    "\n",
    "// Perform text search\n",
    "db.posts.find({ $text: { $search: \"first post\" } })\n",
    "```\n",
    "**Explanation:** Text index allows full-text search. We can then use $text and $search to find documents containing the words."
   ]
  }
 ],
 "metadata": {
  "language_info": {
   "name": "python"
  }
 },
 "nbformat": 4,
 "nbformat_minor": 5
}
