{
 "cells": [
  {
   "cell_type": "markdown",
   "id": "1aa19e0c",
   "metadata": {},
   "source": []
  }
 ],
 "metadata": {
  "language_info": {
   "name": "python"
  }
 },
 "nbformat": 4,
 "nbformat_minor": 5
}
